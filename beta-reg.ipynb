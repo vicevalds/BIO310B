{
 "cells": [
  {
   "cell_type": "code",
   "execution_count": 9,
   "id": "21d084cd",
   "metadata": {},
   "outputs": [],
   "source": [
    "import pandas as pd"
   ]
  },
  {
   "cell_type": "code",
   "execution_count": 10,
   "id": "20cce625",
   "metadata": {},
   "outputs": [],
   "source": [
    "FOLDER = \"out/precision-loo\"\n",
    "OUT = \"out/precision-beta-reg\"\n",
    "DATA_BASE = [\"Chembl28CCandD-loocv\", \"global-loocv\", \"e-loocv\", \"gpcr-loocv\", \"ic-loocv\", \"nr-loocv\"]\n",
    "FINGERPRINTS = [\"ecfp4\", \"fcfp4\", \"maccs\"]"
   ]
  },
  {
   "cell_type": "code",
   "execution_count": 11,
   "id": "5f1a8b34",
   "metadata": {},
   "outputs": [
    {
     "name": "stdout",
     "output_type": "stream",
     "text": [
      "En: Chembl28CCandD-loocv: ecfp4\n",
      "En: Chembl28CCandD-loocv: fcfp4\n",
      "En: Chembl28CCandD-loocv: maccs\n",
      "En: global-loocv: ecfp4\n",
      "En: global-loocv: fcfp4\n",
      "En: global-loocv: maccs\n",
      "En: e-loocv: ecfp4\n",
      "En: e-loocv: fcfp4\n",
      "En: e-loocv: maccs\n",
      "En: gpcr-loocv: ecfp4\n",
      "En: gpcr-loocv: fcfp4\n",
      "En: gpcr-loocv: maccs\n",
      "En: ic-loocv: ecfp4\n",
      "En: ic-loocv: fcfp4\n",
      "En: ic-loocv: maccs\n",
      "En: nr-loocv: ecfp4\n",
      "En: nr-loocv: fcfp4\n",
      "En: nr-loocv: maccs\n"
     ]
    }
   ],
   "source": [
    "for db in DATA_BASE:\n",
    "    for fingerprint in FINGERPRINTS:\n",
    "        print(f\"En: {db}: {fingerprint}\")\n",
    "        file_path = f\"{FOLDER}/{db}_{fingerprint}_precision.csv\"\n",
    "        # Importar\n",
    "        df = pd.read_csv(file_path)\n",
    "        n = len(df)\n",
    "        df['Precision'] = df['Precision'].apply(\n",
    "            lambda x: ((x * (n - 1) + 0.5) / n) if x in [0, 1] else x\n",
    "            )        \n",
    "        df.to_csv(f\"{OUT}/{db}_{fingerprint}_for_beta_reg.csv\", index=False)"
   ]
  },
  {
   "cell_type": "code",
   "execution_count": null,
   "id": "b4e257d3",
   "metadata": {},
   "outputs": [],
   "source": []
  }
 ],
 "metadata": {
  "kernelspec": {
   "display_name": "Python 3",
   "language": "python",
   "name": "python3"
  },
  "language_info": {
   "codemirror_mode": {
    "name": "ipython",
    "version": 3
   },
   "file_extension": ".py",
   "mimetype": "text/x-python",
   "name": "python",
   "nbconvert_exporter": "python",
   "pygments_lexer": "ipython3",
   "version": "3.11.2"
  }
 },
 "nbformat": 4,
 "nbformat_minor": 5
}
