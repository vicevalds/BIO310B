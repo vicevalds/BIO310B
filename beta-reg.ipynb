{
 "cells": [
  {
   "cell_type": "code",
   "execution_count": 3,
   "id": "21d084cd",
   "metadata": {},
   "outputs": [],
   "source": [
    "import pandas as pd\n",
    "import matplotlib.pyplot as plt\n",
    "import seaborn as sns"
   ]
  },
  {
   "cell_type": "code",
   "execution_count": 4,
   "id": "20cce625",
   "metadata": {},
   "outputs": [],
   "source": [
    "FOLDER = \"out/precision-loo\"\n",
    "OUT = \"out/precision-beta-reg\"\n",
    "DATA_BASE = [\"Chembl28CCandD-loocv\", \"global-loocv\", \"e-loocv\", \"gpcr-loocv\", \"ic-loocv\", \"nr-loocv\"]\n",
    "FINGERPRINTS = [\"ecfp4\", \"fcfp4\", \"maccs\"]"
   ]
  },
  {
   "cell_type": "raw",
   "id": "5f1a8b34",
   "metadata": {
    "vscode": {
     "languageId": "raw"
    }
   },
   "source": [
    "for db in DATA_BASE:\n",
    "    for fingerprint in FINGERPRINTS:\n",
    "        print(f\"En: {db}: {fingerprint}\")\n",
    "        file_path = f\"{FOLDER}/{db}_{fingerprint}_precision.csv\"\n",
    "        # Importar\n",
    "        df = pd.read_csv(file_path)\n",
    "        n = len(df)\n",
    "        df['Precision'] = df['Precision'].apply(\n",
    "            lambda x: ((x * (n - 1) + 0.5) / n) if x in [0, 1] else x\n",
    "            )        \n",
    "        df.to_csv(f\"{OUT}/{db}_{fingerprint}_for_beta_reg.csv\", index=False)"
   ]
  },
  {
   "cell_type": "code",
   "execution_count": 9,
   "id": "b4e257d3",
   "metadata": {},
   "outputs": [
    {
     "data": {
      "image/png": "[encoded data removed]",
      "text/plain": [
       "<Figure size 640x480 with 1 Axes>"
      ]
     },
     "metadata": {},
     "output_type": "display_data"
    }
   ],
   "source": [
    "file_path = f\"{OUT}/Chembl28CCandD-loocv_ecfp4_for_beta_reg.csv\"\n",
    "df = pd.read_csv(file_path)\n",
    "\n",
    "sns.histplot(df['Precision'], kde=True, stat='density')\n",
    "plt.title('Histograma de Precision')\n",
    "plt.xlabel('Precision')\n",
    "plt.ylabel('Densidad')\n",
    "plt.show()"
   ]
  },
  {
   "cell_type": "code",
   "execution_count": 14,
   "id": "5e94629e",
   "metadata": {},
   "outputs": [
    {
     "name": "stdout",
     "output_type": "stream",
     "text": [
      "dist Beta: a=0.8831599960867844, b=42.10047973263336\n",
      "pvalue deKS: 0.0\n"
     ]
    }
   ],
   "source": [
    "from scipy import stats\n",
    "\n",
    "alpha, beta, loc, scale = stats.beta.fit(df['Precision'], floc=0, fscale=1)\n",
    "\n",
    "# Kolmogorov-Smirnov\n",
    "ks_stat, ks_p_value = stats.kstest(df['Precision'], 'beta', args=(alpha, beta, 0, 1))\n",
    "\n",
    "print(f\"dist Beta: a={alpha}, b={beta}\")\n",
    "print(f\"pvalue deKS: {ks_p_value}\")"
   ]
  },
  {
   "cell_type": "code",
   "execution_count": 13,
   "id": "3d3914ed",
   "metadata": {},
   "outputs": [
    {
     "name": "stdout",
     "output_type": "stream",
     "text": [
      "Parameters: (2211.4167131319036, -0.07251901654881421, 0.010689980494580718)\n"
     ]
    }
   ],
   "source": [
    "from scipy.stats import genlogistic\n",
    "params = genlogistic.fit(df['Precision'])\n",
    "print(f\"Parameters: {params}\")"
   ]
  },
  {
   "cell_type": "code",
   "execution_count": 16,
   "id": "627ecada",
   "metadata": {},
   "outputs": [
    {
     "name": "stdout",
     "output_type": "stream",
     "text": [
      "                 Generalized Linear Model Regression Results                  \n",
      "==============================================================================\n",
      "Dep. Variable:              Precision   No. Observations:              1170833\n",
      "Model:                            GLM   Df Residuals:                  1170831\n",
      "Model Family:                Binomial   Df Model:                            1\n",
      "Link Function:                  logit   Scale:                          1.0000\n",
      "Method:                          IRLS   Log-Likelihood:                -79881.\n",
      "Date:                Mon, 25 Nov 2024   Deviance:                       18763.\n",
      "Time:                        14:45:02   Pearson chi2:                 6.64e+13\n",
      "No. Iterations:                     8   Pseudo R-squ. (CS):            0.01466\n",
      "Covariance Type:            nonrobust                                         \n",
      "==============================================================================\n",
      "                 coef    std err          z      P>|z|      [0.025      0.975]\n",
      "------------------------------------------------------------------------------\n",
      "Intercept     -4.1547      0.007   -557.977      0.000      -4.169      -4.140\n",
      "Score         55.7273      0.541    103.089      0.000      54.668      56.787\n",
      "==============================================================================\n"
     ]
    }
   ],
   "source": [
    "import pandas as pd\n",
    "import statsmodels.api as sm\n",
    "from statsmodels.formula.api import glm\n",
    "\n",
    "# Verifica que 'Precision' esté en el intervalo (0, 1)\n",
    "# Si hay valores exactamente en 0 o 1, se ajustan ligeramente\n",
    "df['Precision'] = df['Precision'].clip(1e-5, 1 - 1e-5)\n",
    "\n",
    "# Fórmula de regresión: Precision ~ Score\n",
    "formula = \"Precision ~ Score\"\n",
    "\n",
    "# Ajuste del modelo de regresión beta\n",
    "model = glm(formula, data=df, family=sm.families.Binomial(link=sm.families.links.logit())).fit()\n",
    "\n",
    "# Resumen de los resultados\n",
    "print(model.summary())\n"
   ]
  },
  {
   "cell_type": "code",
   "execution_count": null,
   "id": "94764394",
   "metadata": {},
   "outputs": [],
   "source": []
  }
 ],
 "metadata": {
  "kernelspec": {
   "display_name": "Python 3",
   "language": "python",
   "name": "python3"
  },
  "language_info": {
   "codemirror_mode": {
    "name": "ipython",
    "version": 3
   },
   "file_extension": ".py",
   "mimetype": "text/x-python",
   "name": "python",
   "nbconvert_exporter": "python",
   "pygments_lexer": "ipython3",
   "version": "3.11.2"
  }
 },
 "nbformat": 4,
 "nbformat_minor": 5
}
