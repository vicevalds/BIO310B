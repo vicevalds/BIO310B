{
 "cells": [
  {
   "cell_type": "code",
   "execution_count": 1,
   "id": "21d084cd",
   "metadata": {},
   "outputs": [],
   "source": [
    "import pandas as pd\n",
    "import os"
   ]
  },
  {
   "cell_type": "code",
   "execution_count": 2,
   "id": "0f9686f7",
   "metadata": {},
   "outputs": [],
   "source": [
    "FOLDER = \"loocv-results\"\n",
    "DATA_BASE = [\"Chembl28CCandD-loocv\", \"global-loocv\", \"e-loocv\", \"gpcr-loocv\", \"ic-loocv\", \"nr-loocv\"]\n",
    "FINGERPRINTS = {\"ecfp4\": 0.2, \n",
    "                \"fcfp4\": 0.3,\n",
    "                \"maccs\": 0.6}"
   ]
  },
  {
   "cell_type": "markdown",
   "id": "60efcce1",
   "metadata": {},
   "source": [
    "### Import df"
   ]
  },
  {
   "cell_type": "code",
   "execution_count": 3,
   "id": "2712a975",
   "metadata": {},
   "outputs": [],
   "source": [
    "def import_df(file_path):\n",
    "    df = pd.read_csv(file_path, header=None)\n",
    "    df.columns = ['Fold', 'Ligand', 'Target', 'Score', 'TP']\n",
    "    df.drop_duplicates(inplace=True)\n",
    "    df['Ligand'] = df['Ligand'].str.replace('\"', '', regex=True)\n",
    "    df['Ligand'] = df['Ligand'].str.strip()\n",
    "    df['Target'] = df['Target'].str.replace('\"', '', regex=True)\n",
    "    df['Target'] = df['Target'].str.strip()\n",
    "    df['TP'] = df['TP'].astype(int)\n",
    "    df['Score'] = df['Score'].astype(float)\n",
    "    return df"
   ]
  },
  {
   "cell_type": "markdown",
   "id": "fe60621d",
   "metadata": {},
   "source": [
    "### Save"
   ]
  },
  {
   "cell_type": "code",
   "execution_count": null,
   "id": "87960f26",
   "metadata": {},
   "outputs": [
    {
     "name": "stdout",
     "output_type": "stream",
     "text": [
      "En: Chembl28CCandD-loocv: ecfp4\n",
      "En: Chembl28CCandD-loocv: fcfp4\n",
      "En: Chembl28CCandD-loocv: maccs\n",
      "En: global-loocv: ecfp4\n",
      "En: global-loocv: fcfp4\n",
      "En: global-loocv: maccs\n",
      "En: e-loocv: ecfp4\n",
      "En: e-loocv: fcfp4\n",
      "En: e-loocv: maccs\n",
      "En: gpcr-loocv: ecfp4\n",
      "En: gpcr-loocv: fcfp4\n",
      "En: gpcr-loocv: maccs\n",
      "En: ic-loocv: ecfp4\n",
      "En: ic-loocv: fcfp4\n",
      "En: ic-loocv: maccs\n",
      "En: nr-loocv: ecfp4\n",
      "En: nr-loocv: fcfp4\n",
      "En: nr-loocv: maccs\n"
     ]
    }
   ],
   "source": [
    "for db in DATA_BASE:\n",
    "    for fingerprint, value in FINGERPRINTS.items():\n",
    "        print(f\"En: {db}: {fingerprint}\")\n",
    "        file_path = os.path.join(FOLDER, db, fingerprint, f\"{value}.out\")\n",
    "        df = import_df(file_path)\n",
    "        df.to_csv(f\"out/raw_results/{db}_{fingerprint}_pool.csv\", index=False)"
   ]
  },
  {
   "cell_type": "markdown",
   "id": "ff990ca8",
   "metadata": {},
   "source": [
    "### Normalizar"
   ]
  },
  {
   "cell_type": "code",
   "execution_count": 5,
   "id": "85cd9635",
   "metadata": {},
   "outputs": [],
   "source": [
    "def norm(df):\n",
    "    df_sum = df.groupby('Ligand')['Score'].sum().reset_index()\n",
    "    df_sum.columns = ['Ligand', 'Score_Sum']\n",
    "    df = df.merge(df_sum, on='Ligand')\n",
    "    df['Normalized'] = df['Score'] / df['Score_Sum']\n",
    "    # Escribir\n",
    "    df = df[[\"Fold\", \"Ligand\", \"Target\", \"Normalized\", \"TP\"]]\n",
    "    df.rename(columns={'Normalized': 'Score'}, inplace=True)\n",
    "    df = df[df['Score'] >= 0]\n",
    "    return df"
   ]
  },
  {
   "cell_type": "code",
   "execution_count": 6,
   "id": "3fc96226",
   "metadata": {},
   "outputs": [
    {
     "name": "stdout",
     "output_type": "stream",
     "text": [
      "En: Chembl28CCandD-loocv: ecfp4\n",
      "En: Chembl28CCandD-loocv: fcfp4\n",
      "En: Chembl28CCandD-loocv: maccs\n",
      "En: global-loocv: ecfp4\n",
      "En: global-loocv: fcfp4\n",
      "En: global-loocv: maccs\n",
      "En: e-loocv: ecfp4\n",
      "En: e-loocv: fcfp4\n",
      "En: e-loocv: maccs\n",
      "En: gpcr-loocv: ecfp4\n",
      "En: gpcr-loocv: fcfp4\n",
      "En: gpcr-loocv: maccs\n",
      "En: ic-loocv: ecfp4\n",
      "En: ic-loocv: fcfp4\n",
      "En: ic-loocv: maccs\n",
      "En: nr-loocv: ecfp4\n",
      "En: nr-loocv: fcfp4\n",
      "En: nr-loocv: maccs\n"
     ]
    }
   ],
   "source": [
    "for db in DATA_BASE:\n",
    "    for fingerprint, value in FINGERPRINTS.items():\n",
    "        print(f\"En: {db}: {fingerprint}\")\n",
    "        file_path = os.path.join(FOLDER, db, fingerprint, f\"{value}.out\")\n",
    "        df = import_df(file_path)\n",
    "        df = norm(df)\n",
    "        df.to_csv(f\"out/normalized/{db}_{fingerprint}_normalized.csv\", index=False)"
   ]
  },
  {
   "cell_type": "code",
   "execution_count": null,
   "id": "5ec1c87d",
   "metadata": {},
   "outputs": [],
   "source": []
  }
 ],
 "metadata": {
  "kernelspec": {
   "display_name": "Python 3",
   "language": "python",
   "name": "python3"
  },
  "language_info": {
   "codemirror_mode": {
    "name": "ipython",
    "version": 3
   },
   "file_extension": ".py",
   "mimetype": "text/x-python",
   "name": "python",
   "nbconvert_exporter": "python",
   "pygments_lexer": "ipython3",
   "version": "3.11.2"
  }
 },
 "nbformat": 4,
 "nbformat_minor": 5
}
